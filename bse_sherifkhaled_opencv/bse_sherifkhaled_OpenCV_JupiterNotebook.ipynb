{
 "cells": [
  {
   "cell_type": "code",
   "execution_count": 9,
   "metadata": {},
   "outputs": [
    {
     "data": {
      "text/plain": [
       "-1"
      ]
     },
     "execution_count": 9,
     "metadata": {},
     "output_type": "execute_result"
    }
   ],
   "source": [
    "#Task 1\n",
    "#from matplotlib import pyplot as plt\n",
    "import cv2 as cv\n",
    "from cv2 import waitKey\n",
    "import numpy as np\n",
    "\n",
    "img1 = np.zeros((50,50,3),np.uint8)\n",
    "img2 = np.zeros((50,50,3),np.uint8)\n",
    "img3 = np.zeros((50,50,3),np.uint8)\n",
    "img4 = np.zeros((50,50,3),np.uint8)\n",
    "\n",
    "img1[:,:] = (0,0,0)\n",
    "img2[:,:] = (0,255,0)\n",
    "img3[:,:] = (255,0,0)\n",
    "img4[:,:] = (0,0,200)\n",
    "\n",
    "hor1= np.hstack((img1,img2))\n",
    "hor2 = np.hstack((img3,img4))\n",
    "ver = np.vstack((hor1,hor2))\n",
    "\n",
    "result = cv.resize(ver,(200,200))\n",
    "\n",
    "cv.imshow(\"Result\",result)\n",
    "\n",
    "#--------- using Matplotlib ------------\n",
    "##plt.imshow(img, cmap = 'gray')\n",
    "##plt.tick_params(axis='y',left = False,labelleft = False)\n",
    "##plt.xticks([0,50,100,150,200,255])\n",
    "##plt.show()\n",
    "\n",
    "waitKey(0)"
   ]
  },
  {
   "cell_type": "code",
   "execution_count": 1,
   "metadata": {},
   "outputs": [
    {
     "ename": "",
     "evalue": "",
     "output_type": "error",
     "traceback": [
      "\u001b[1;31mThe Kernel crashed while executing code in the the current cell or a previous cell. Please review the code in the cell(s) to identify a possible cause of the failure. Click <a href='https://aka.ms/vscodeJupyterKernelCrash'>here</a> for more info. View Jupyter <a href='command:jupyter.viewOutput'>log</a> for further details."
     ]
    }
   ],
   "source": [
    "#Task 2\n",
    "from sre_constants import SUCCESS\n",
    "import cv2 as cv\n",
    "from cv2 import waitKey\n",
    "import numpy as np\n",
    "\n",
    "#flags\n",
    "r = 0\n",
    "g = 0\n",
    "h = 0\n",
    "x = 0\n",
    "s = 0\n",
    "c = 0\n",
    "\n",
    "cam = cv.VideoCapture(0)\n",
    "cam.set(10,100)\n",
    "\n",
    "result = cv.VideoWriter('CapturedVideo.avi', cv.VideoWriter_fourcc(*'MJPG'),10,(640,480))\n",
    "\n",
    "while True:\n",
    "    SUCCESS , img=cam.read()\n",
    "    if s :\n",
    "        result.write(img)\n",
    "    if g :\n",
    "        img = cv.cvtColor(img ,cv.COLOR_BGR2GRAY)\n",
    "    if r :\n",
    "        img = cv.rotate(img, cv.ROTATE_90_CLOCKWISE) \n",
    "    if h :\n",
    "        img = cv.cvtColor(img, cv.COLOR_BGR2HSV) \n",
    "    if x :\n",
    "        grey = cv.cvtColor(img ,cv.COLOR_BGR2GRAY)\n",
    "        rotate = cv.rotate(img, cv.ROTATE_90_CLOCKWISE)\n",
    "        hsv = cv.cvtColor(img, cv.COLOR_BGR2HSV) \n",
    "        cv.imshow(\"Rotated\",rotate) \n",
    "        cv.imshow(\"Grey\", grey) \n",
    "        cv.imshow(\"hsv\",hsv) \n",
    "\n",
    "    cv.imshow(\"WebCam\",img)\n",
    "    input = cv.waitKey(1)\n",
    "\n",
    "\n",
    "    if (input == ord('q')) or (input == ord('Q')) :\n",
    "        if s :\n",
    "            cam.release()\n",
    "            result.release()\n",
    "        break\n",
    "    elif (input == ord('r')) or (input == ord('R')) :\n",
    "        r,g,h = 1,0,0\n",
    "    elif (input == ord('h')) or (input == ord('H')) :\n",
    "        h,r,g, = 1,0,0\n",
    "    elif (input == ord('g')) or (input == ord('G')) :\n",
    "        g,r,h = 1,0,0\n",
    "    elif (input == ord('x')) or (input == ord('X')) :\n",
    "        x,g,r,h = 1,0,0,0\n",
    "    elif (input == ord('z')) or (input == ord('Z')) :\n",
    "        cv.destroyAllWindows()\n",
    "        x,g,r,h = 0,0,0,0\n",
    "    elif (input == ord('s')) or (input == ord('S')) :\n",
    "        s = 1\n",
    "    elif (input == ord('c')) or (input == ord('C')) :\n",
    "        cv.imwrite(f'Image{\" \"}.png',img)\n"
   ]
  }
 ],
 "metadata": {
  "kernelspec": {
   "display_name": "Python 3.8.1 64-bit",
   "language": "python",
   "name": "python3"
  },
  "language_info": {
   "codemirror_mode": {
    "name": "ipython",
    "version": 3
   },
   "file_extension": ".py",
   "mimetype": "text/x-python",
   "name": "python",
   "nbconvert_exporter": "python",
   "pygments_lexer": "ipython3",
   "version": "3.8.1"
  },
  "orig_nbformat": 4,
  "vscode": {
   "interpreter": {
    "hash": "80a39e65713ba501fb2201278b0675590da5d5811aaafaaada6a2dc7a01517ce"
   }
  }
 },
 "nbformat": 4,
 "nbformat_minor": 2
}
